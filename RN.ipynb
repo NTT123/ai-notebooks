{
  "nbformat": 4,
  "nbformat_minor": 0,
  "metadata": {
    "colab": {
      "name": "RN.ipynb",
      "version": "0.3.2",
      "provenance": [],
      "collapsed_sections": [
        "WYMqN9ttpyaP",
        "cvXcnub4yZBu",
        "dVGlOWPu2qsT",
        "KReoH3_uglVK"
      ],
      "include_colab_link": true
    },
    "kernelspec": {
      "name": "python3",
      "display_name": "Python 3"
    },
    "accelerator": "GPU"
  },
  "cells": [
    {
      "cell_type": "markdown",
      "metadata": {
        "id": "view-in-github",
        "colab_type": "text"
      },
      "source": [
        "<a href=\"https://colab.research.google.com/github/NTT123/ai-notebooks/blob/master/RN.ipynb\" target=\"_parent\"><img src=\"https://colab.research.google.com/assets/colab-badge.svg\" alt=\"Open In Colab\"/></a>"
      ]
    },
    {
      "metadata": {
        "id": "COHBUzv3LakE",
        "colab_type": "text"
      },
      "cell_type": "markdown",
      "source": [
        "# Relational Neural Network\n",
        "\n",
        "A simple neural network module for relational reasoning\n",
        "\n",
        "https://arxiv.org/abs/1706.01427\n",
        "https://papers.nips.cc/paper/7082-a-simple-neural-network-module-for-relational-reasoning.pdf"
      ]
    },
    {
      "metadata": {
        "id": "_7cbY0u-tJP6",
        "colab_type": "toc"
      },
      "cell_type": "markdown",
      "source": [
        ">[Relational Neural Network](#scrollTo=COHBUzv3LakE)\n",
        "\n",
        ">>[Sort-of-CLEVR dataset](#scrollTo=5z5GYCfYL1a4)\n",
        "\n",
        ">>[Model](#scrollTo=WYMqN9ttpyaP)\n",
        "\n",
        ">>[Dataloader](#scrollTo=cvXcnub4yZBu)\n",
        "\n",
        ">>[Training](#scrollTo=dVGlOWPu2qsT)\n",
        "\n",
        ">>[Demo](#scrollTo=KReoH3_uglVK)\n",
        "\n"
      ]
    },
    {
      "metadata": {
        "id": "5z5GYCfYL1a4",
        "colab_type": "text"
      },
      "cell_type": "markdown",
      "source": [
        "##  Sort-of-CLEVR dataset"
      ]
    },
    {
      "metadata": {
        "id": "EdWfXpbuC86o",
        "colab_type": "code",
        "outputId": "148b5db1-3d3f-4257-efd7-246ef27238b8",
        "colab": {
          "base_uri": "https://localhost:8080/",
          "height": 765
        }
      },
      "cell_type": "code",
      "source": [
        "!apt install libcairo2-dev -y -q\n",
        "!pip install pycairo -q\n",
        "!wget -q \"https://media.wired.com/photos/5aecf815efa7377a337590ee/master/w_582,c_limit/FINALGettyImages-950416996-.jpg\" -O bg.jpg\n",
        "!pip3 install tensorboardX"
      ],
      "execution_count": 1,
      "outputs": [
        {
          "output_type": "stream",
          "text": [
            "Reading package lists...\n",
            "Building dependency tree...\n",
            "Reading state information...\n",
            "The following additional packages will be installed:\n",
            "  libcairo-script-interpreter2 libpixman-1-dev libxcb-shm0-dev\n",
            "Suggested packages:\n",
            "  libcairo2-doc\n",
            "The following NEW packages will be installed:\n",
            "  libcairo-script-interpreter2 libcairo2-dev libpixman-1-dev libxcb-shm0-dev\n",
            "0 upgraded, 4 newly installed, 0 to remove and 8 not upgraded.\n",
            "Need to get 930 kB of archives.\n",
            "After this operation, 3,985 kB of additional disk space will be used.\n",
            "Get:1 http://archive.ubuntu.com/ubuntu bionic/main amd64 libcairo-script-interpreter2 amd64 1.15.10-2 [53.4 kB]\n",
            "Get:2 http://archive.ubuntu.com/ubuntu bionic/main amd64 libpixman-1-dev amd64 0.34.0-2 [244 kB]\n",
            "Get:3 http://archive.ubuntu.com/ubuntu bionic/main amd64 libxcb-shm0-dev amd64 1.13-1 [6,676 B]\n",
            "Get:4 http://archive.ubuntu.com/ubuntu bionic/main amd64 libcairo2-dev amd64 1.15.10-2 [626 kB]\n",
            "Fetched 930 kB in 4s (232 kB/s)\n",
            "Selecting previously unselected package libcairo-script-interpreter2:amd64.\n",
            "(Reading database ... 110842 files and directories currently installed.)\n",
            "Preparing to unpack .../libcairo-script-interpreter2_1.15.10-2_amd64.deb ...\n",
            "Unpacking libcairo-script-interpreter2:amd64 (1.15.10-2) ...\n",
            "Selecting previously unselected package libpixman-1-dev:amd64.\n",
            "Preparing to unpack .../libpixman-1-dev_0.34.0-2_amd64.deb ...\n",
            "Unpacking libpixman-1-dev:amd64 (0.34.0-2) ...\n",
            "Selecting previously unselected package libxcb-shm0-dev:amd64.\n",
            "Preparing to unpack .../libxcb-shm0-dev_1.13-1_amd64.deb ...\n",
            "Unpacking libxcb-shm0-dev:amd64 (1.13-1) ...\n",
            "Selecting previously unselected package libcairo2-dev:amd64.\n",
            "Preparing to unpack .../libcairo2-dev_1.15.10-2_amd64.deb ...\n",
            "Unpacking libcairo2-dev:amd64 (1.15.10-2) ...\n",
            "Setting up libcairo-script-interpreter2:amd64 (1.15.10-2) ...\n",
            "Setting up libxcb-shm0-dev:amd64 (1.13-1) ...\n",
            "Processing triggers for libc-bin (2.27-3ubuntu1) ...\n",
            "Setting up libpixman-1-dev:amd64 (0.34.0-2) ...\n",
            "Setting up libcairo2-dev:amd64 (1.15.10-2) ...\n",
            "Collecting tensorboardX\n",
            "\u001b[?25l  Downloading https://files.pythonhosted.org/packages/3b/10/0cc87d34b4a02109bee5f7b9bd9c95524fbb540311f6fbcc3758591a3f3a/tensorboardX-1.5-py2.py3-none-any.whl (112kB)\n",
            "\u001b[K    100% |████████████████████████████████| 112kB 2.7MB/s \n",
            "\u001b[?25hRequirement already satisfied: six in /usr/local/lib/python3.6/dist-packages (from tensorboardX) (1.11.0)\n",
            "Requirement already satisfied: numpy in /usr/local/lib/python3.6/dist-packages (from tensorboardX) (1.14.6)\n",
            "Requirement already satisfied: protobuf>=3.2.0 in /usr/local/lib/python3.6/dist-packages (from tensorboardX) (3.6.1)\n",
            "Requirement already satisfied: setuptools in /usr/local/lib/python3.6/dist-packages (from protobuf>=3.2.0->tensorboardX) (40.6.3)\n",
            "Installing collected packages: tensorboardX\n",
            "Successfully installed tensorboardX-1.5\n"
          ],
          "name": "stdout"
        }
      ]
    },
    {
      "metadata": {
        "id": "K47z0QEOSBXd",
        "colab_type": "code",
        "colab": {}
      },
      "cell_type": "code",
      "source": [
        "import random\n",
        "import cairo\n",
        "import math \n",
        "from PIL import Image\n",
        "import numpy as np\n",
        "\n",
        "class Object(object):\n",
        "    def __init__(self, shape, color, pos):\n",
        "        self._shape = shape\n",
        "        self._color = color\n",
        "        self._pos   = pos\n",
        "\n",
        "        \n",
        "colorlist = ['red', 'blue', 'green', 'orange', 'yellow', 'gray']\n",
        "\n",
        "colors = {\n",
        "'red'    : (255/255 ,   8/255,   0/255),\n",
        "'blue'   : (31 /255 , 117/255, 254/255),\n",
        "'green'  : (74 /255 , 255/255,   0/255),\n",
        "'orange' : (237/255 , 135/255,  45/255),\n",
        "'yellow' : (255/255 , 246/255,   0/255),\n",
        "'gray'   : (103/255 , 103/255, 103/255),\n",
        "}\n",
        "\n",
        "class Env(object):\n",
        "    def __init__(self, bg, num_obj=6, size=75, obj_size=5):\n",
        "        self._num_obj = num_obj\n",
        "        self._size    = size\n",
        "        self._obj_size = obj_size\n",
        "        bg = Image.open(bg)\n",
        "        x = random.randint(0, bg.size[0]-1-size)\n",
        "        y = random.randint(0, bg.size[1]-1-size)\n",
        "        bg = bg.crop( box=(x, y, x+size, y+size) )\n",
        "        bg.save(\"mybg__.png\")\n",
        "        self._bg = cairo.ImageSurface.create_from_png(\"mybg__.png\")\n",
        "        self._objs    = []\n",
        "        for i in range(num_obj):\n",
        "            color = colorlist[i]\n",
        "            shape = random.choice(['square', 'circle'])\n",
        "            done = False\n",
        "            while not done:\n",
        "                pos   = random.randint(obj_size, size-obj_size-1), random.randint(obj_size, size-obj_size-1)\n",
        "                for o in self._objs:\n",
        "                    dx = o._pos[0] - pos[0]\n",
        "                    dy = o._pos[1] - pos[1]\n",
        "                    \n",
        "                    if dx**2 + dy**2 < 2 * (2*obj_size)**2:\n",
        "                        break\n",
        "                else:\n",
        "                    done = True\n",
        "                    self._objs.append(Object(shape=shape, color=color, pos=pos))\n",
        "    def render(self, filename):\n",
        "        with cairo.ImageSurface(cairo.FORMAT_ARGB32, self._size, self._size) as surface:\n",
        "            context = cairo.Context(surface)\n",
        "            #context.set_line_width(0.04)\n",
        "            \n",
        "            #context.set_source_rgb(0.9, 0.9, 0.9)\n",
        "            #context.rectangle(0, 0, self._size, self._size)\n",
        "            #context.fill()\n",
        "            \n",
        "            context.set_source_surface(self._bg, 0.0, 0.0)\n",
        "            context.paint()\n",
        "            \n",
        "            for o in self._objs:\n",
        "                if o._shape == \"circle\":\n",
        "                    context.arc(o._pos[0], o._pos[1], self._obj_size, 0.0, 2.0*math.pi)\n",
        "                    \n",
        "                if o._shape == \"square\":\n",
        "                    x1, y1 = o._pos[0] - self._obj_size, o._pos[1] - self._obj_size\n",
        "                    context.rectangle(x1, y1,  2*self._obj_size , 2*self._obj_size)\n",
        "                    \n",
        "                context.set_source_rgb( *colors[o._color ] )\n",
        "                context.fill_preserve()\n",
        "                context.set_source_rgb(0.1, 0.1, 0.1)\n",
        "                context.set_line_width(1)\n",
        "                context.stroke()\n",
        "\n",
        "            surface.write_to_png(filename)\n",
        "            \n",
        "    def generate_question(self):\n",
        "        bits = [0 for _ in range(11)]\n",
        "        bits[random.randint(0, 5)] = 1      # color\n",
        "        bits[6 + random.randint(0, 1)] = 1  # question type\n",
        "        bits[8 + random.randint(0, 2)] = 1  # question subtype\n",
        "        \n",
        "        return bits\n",
        "    \n",
        "    def answer_type_1_q1(self, o):\n",
        "        # What is the shape of the red object?\n",
        "        return o._shape\n",
        "            \n",
        "    def answer_type_1_q2(self, o):\n",
        "        # Is the red object on the left or right of the image?\n",
        "        if o._pos[0] < self._size//2:\n",
        "            return \"left\"\n",
        "        else:\n",
        "            return \"right\"\n",
        "\n",
        "    def answer_type_1_q3(self, o):\n",
        "        # Is the red object on the top or bottom of the image?\n",
        "        if o._pos[1] < self._size//2:\n",
        "            return \"top\"\n",
        "        else:\n",
        "            return \"bottom\"\n",
        "\n",
        "    def answer_type_2_q1(self, o):\n",
        "        # What is the shape of the object that is closest to the green object?\n",
        "        mindist = None\n",
        "        minobj = None\n",
        "        for oo in self._objs:\n",
        "            if oo._color != o._color:\n",
        "                dist = (o._pos[0] - oo._pos[0])**2 + (o._pos[1] - oo._pos[1])**2\n",
        "                if mindist == None:\n",
        "                    mindist = dist\n",
        "                    minobj = oo\n",
        "                elif mindist > dist:\n",
        "                    mindist = dist\n",
        "                    minobj = oo\n",
        "        return minobj._shape\n",
        "                   \n",
        "            \n",
        "    def answer_type_2_q2(self, o):\n",
        "        # What is the shape of the object that is furthest from the green object?\n",
        "        maxdist = None\n",
        "        maxobj = None\n",
        "        for oo in self._objs:\n",
        "            if oo._color != o._color:\n",
        "                dist = (o._pos[0] - oo._pos[0])**2 + (o._pos[1] - oo._pos[1])**2\n",
        "                if maxdist == None:\n",
        "                    maxdist = dist\n",
        "                    maxobj = oo\n",
        "                elif maxdist < dist:\n",
        "                    maxdist = dist\n",
        "                    maxobj = oo\n",
        "        return maxobj._shape\n",
        "\n",
        "    def answer_type_2_q3(self, o):\n",
        "        # How many objects have the shape of the green object? \n",
        "        c = 0\n",
        "        for oo in self._objs:\n",
        "            if oo._shape == o._shape:\n",
        "                c = c + 1\n",
        "                \n",
        "        return str(c)\n",
        "    \n",
        "    def parse_question(self, question):\n",
        "        for i in range(6):\n",
        "            if question[i] == 1:\n",
        "                color = colorlist[i]\n",
        "                \n",
        "        typ= question[6]\n",
        "        subtype = question[8] * 2 + question[9] * 1 + question[10] * 0 \n",
        "        return color, typ, subtype\n",
        "    \n",
        "    def answer_question(self, question):\n",
        "        c, t, st = self.parse_question(question)\n",
        "        for o in self._objs:\n",
        "            if o._color == c:\n",
        "                break\n",
        "        oracle =  [self.answer_type_1_q1, self.answer_type_1_q2, self.answer_type_1_q3]\n",
        "        oracle += [self.answer_type_2_q1, self.answer_type_2_q2, self.answer_type_2_q3]\n",
        "        \n",
        "        return oracle[st + t*3](o)\n",
        "\n",
        "    def question_to_english(self, question):\n",
        "        lst = [ \"What is the shape of the {} object?\",\n",
        "                \"Is the {} object on the left or right of the image?\",\n",
        "                \"Is the {} object on the top or bottom of the image?\",\n",
        "                \"What is the shape of the object that is closest to the {} object?\",\n",
        "                \"What is the shape of the object that is furthest from the {} object?\",\n",
        "                \"How many objects have the shape of the {} object?\" ]\n",
        "        \n",
        "        c, t, st = self.parse_question(question)\n",
        "        print(t, st, c, st + 3*t)\n",
        "        return lst[st + 3*t].format(c)\n",
        "        "
      ],
      "execution_count": 0,
      "outputs": []
    },
    {
      "metadata": {
        "id": "R8sAbpBMypBJ",
        "colab_type": "code",
        "colab": {}
      },
      "cell_type": "code",
      "source": [
        "def generate_example(bg, out):\n",
        "    myenv = Env(bg, size=128, obj_size=10)\n",
        "    pair = []\n",
        "    for _ in range(20):\n",
        "        q = myenv.generate_question()\n",
        "        ans = myenv.answer_question(q)\n",
        "        q = \"\".join(map(str, q))\n",
        "        pair.append(\"{} {} {}\".format(out, q, ans.rjust(10)))\n",
        "    \n",
        "    myenv.render(out)\n",
        "    return \"\\n\".join(pair)    "
      ],
      "execution_count": 0,
      "outputs": []
    },
    {
      "metadata": {
        "id": "1qHucBiCZEs6",
        "colab_type": "code",
        "outputId": "60782cfa-4d94-481a-875a-a27e6fbed45c",
        "colab": {
          "base_uri": "https://localhost:8080/",
          "height": 145
        }
      },
      "cell_type": "code",
      "source": [
        "!mkdir env\n",
        "examples = []\n",
        "for i in range(10_000):\n",
        "    examples.append(generate_example(\"bg.jpg\", \"env/{0:05d}.png\".format(i)))\n",
        "    \n",
        "open('SortOfCLEVR.txt', \"w\").write(\"\\n\".join(examples))\n",
        "from PIL import Image\n",
        "Image.open(\"env/00000.png\")"
      ],
      "execution_count": 4,
      "outputs": [
        {
          "output_type": "execute_result",
          "data": {
            "image/png": "[encoded data removed]",
            "text/plain": [
              "<PIL.PngImagePlugin.PngImageFile image mode=RGB size=128x128 at 0x7FA017AA3668>"
            ]
          },
          "metadata": {
            "tags": []
          },
          "execution_count": 4
        }
      ]
    },
    {
      "metadata": {
        "id": "uuPAzxbx36EG",
        "colab_type": "code",
        "outputId": "2ad09ea0-3836-4fe2-98e4-84df5db0aea6",
        "colab": {
          "base_uri": "https://localhost:8080/",
          "height": 85
        }
      },
      "cell_type": "code",
      "source": [
        "!head -n 4 SortOfCLEVR.txt"
      ],
      "execution_count": 5,
      "outputs": [
        {
          "output_type": "stream",
          "text": [
            "env/00000.png 01000001001     square\n",
            "env/00000.png 00000101100     bottom\n",
            "env/00000.png 00000101010      right\n",
            "env/00000.png 01000010001     square\n"
          ],
          "name": "stdout"
        }
      ]
    },
    {
      "metadata": {
        "id": "ApDo28rc2lD4",
        "colab_type": "code",
        "outputId": "39c843c3-4e35-46aa-e87b-84a7db9e3212",
        "colab": {
          "base_uri": "https://localhost:8080/",
          "height": 145
        }
      },
      "cell_type": "code",
      "source": [
        "!mkdir env_test\n",
        "examples = []\n",
        "for i in range(1000):\n",
        "    examples.append(generate_example(\"bg.jpg\", \"env_test/{0:05d}.png\".format(i)))\n",
        "    \n",
        "open('SortOfCLEVR_test.txt', \"w\").write(\"\\n\".join(examples))\n",
        "Image.open(\"env_test/00000.png\")"
      ],
      "execution_count": 6,
      "outputs": [
        {
          "output_type": "execute_result",
          "data": {
            "image/png": "[encoded data removed]",
            "text/plain": [
              "<PIL.PngImagePlugin.PngImageFile image mode=RGB size=128x128 at 0x7FA0181249B0>"
            ]
          },
          "metadata": {
            "tags": []
          },
          "execution_count": 6
        }
      ]
    },
    {
      "metadata": {
        "id": "dOF1eBHJuc-x",
        "colab_type": "code",
        "outputId": "a54d2e8f-35a3-4cf7-8767-859278d04a8d",
        "colab": {
          "base_uri": "https://localhost:8080/",
          "height": 85
        }
      },
      "cell_type": "code",
      "source": [
        "!head -n 4 SortOfCLEVR_test.txt"
      ],
      "execution_count": 7,
      "outputs": [
        {
          "output_type": "stream",
          "text": [
            "env_test/00000.png 00010010001     square\n",
            "env_test/00000.png 01000001100        top\n",
            "env_test/00000.png 01000001001     square\n",
            "env_test/00000.png 01000001010       left\n"
          ],
          "name": "stdout"
        }
      ]
    },
    {
      "metadata": {
        "id": "WYMqN9ttpyaP",
        "colab_type": "text"
      },
      "cell_type": "markdown",
      "source": [
        "## Model"
      ]
    },
    {
      "metadata": {
        "id": "N0oAIAE4ui0c",
        "colab_type": "code",
        "outputId": "bc1c976c-a6ca-4044-d70b-ea7e5cd0507c",
        "colab": {
          "base_uri": "https://localhost:8080/",
          "height": 54
        }
      },
      "cell_type": "code",
      "source": [
        "!pip3 install torch torchvision -q"
      ],
      "execution_count": 8,
      "outputs": [
        {
          "output_type": "stream",
          "text": [
            "tcmalloc: large alloc 1073750016 bytes == 0x623f6000 @  0x7f90660f72a4 0x591a07 0x5b5d56 0x502e9a 0x506859 0x502209 0x502f3d 0x506859 0x504c28 0x502540 0x502f3d 0x506859 0x504c28 0x502540 0x502f3d 0x506859 0x504c28 0x502540 0x502f3d 0x507641 0x502209 0x502f3d 0x506859 0x504c28 0x502540 0x502f3d 0x507641 0x504c28 0x502540 0x502f3d 0x507641\n"
          ],
          "name": "stdout"
        }
      ]
    },
    {
      "metadata": {
        "id": "jjaRqZsrjk74",
        "colab_type": "code",
        "colab": {}
      },
      "cell_type": "code",
      "source": [
        "import torch\n",
        "import torch.nn as nn\n",
        "\n",
        "class Encoder(nn.Module):\n",
        "    def __init__(self):\n",
        "        super().__init__()\n",
        "        self.seq = nn.Sequential(\n",
        "            nn.Conv2d(3, 24, 3, 2, 1, bias=False),\n",
        "            nn.BatchNorm2d(24),            \n",
        "            nn.ReLU(),\n",
        "            nn.Conv2d(24, 24, 3, 2, 1, bias=False),\n",
        "            nn.BatchNorm2d(24),            \n",
        "            nn.ReLU(),\n",
        "            nn.Conv2d(24, 24, 3, 2, 1, bias=False),\n",
        "            nn.BatchNorm2d(24),            \n",
        "            nn.ReLU(),\n",
        "            nn.Conv2d(24, 24, 3, 2, 1, bias=False),\n",
        "            nn.BatchNorm2d(24),            \n",
        "            nn.ReLU(),\n",
        "        )\n",
        "        \n",
        "    def forward(self, x):\n",
        "        x = self.seq(x)\n",
        "        \n",
        "        return x\n",
        "    \n",
        "class RN(nn.Module):\n",
        "    def __init__(self):\n",
        "        super().__init__()\n",
        "        self.enc = Encoder()\n",
        "        self.relations = nn.Sequential(\n",
        "            nn.Conv2d(24*2+4 + 11, 128, 1, 1, 0, bias=False),\n",
        "            nn.BatchNorm2d(128),\n",
        "            nn.ReLU(),\n",
        "            nn.Conv2d(128, 128, 1, 1, 0, bias=False),\n",
        "            nn.BatchNorm2d(128),\n",
        "            nn.ReLU(),\n",
        "            nn.Conv2d(128, 128, 1, 1, 0, bias=False),\n",
        "            nn.BatchNorm2d(128),\n",
        "            nn.ReLU(),\n",
        "            nn.Conv2d(128, 128, 1, 1, 0, bias=False),\n",
        "            nn.BatchNorm2d(128),\n",
        "            nn.ReLU(),\n",
        "        )\n",
        "        \n",
        "        self.output = nn.Sequential(\n",
        "            nn.Conv2d(128, 128, 1, 1, 0, bias=False),\n",
        "            nn.BatchNorm2d(128),\n",
        "            nn.ReLU(),\n",
        "\n",
        "            nn.Conv2d(128, 128, 1, 1, 0, bias=False),\n",
        "            nn.BatchNorm2d(128),\n",
        "            nn.ReLU(),\n",
        "\n",
        "            nn.Conv2d(128, 128, 1, 1, 0, bias=False),\n",
        "            nn.BatchNorm2d(128),\n",
        "            nn.ReLU(),\n",
        "            \n",
        "            nn.Dropout2d(0.5),\n",
        "\n",
        "            nn.Conv2d(128, 12, 1, 1, 0, bias=False),\n",
        "            nn.BatchNorm2d(12),\n",
        "        )\n",
        "        \n",
        "        tag  = torch.linspace(-1, 1, 8)\n",
        "        tagx = tag.unsqueeze(0).expand(8,8)\n",
        "        tagy = tag.unsqueeze(1).expand(8,8)\n",
        "        tag  = torch.stack((tagx, tagy), dim=0)\n",
        "        \n",
        "        self.register_buffer('tag', tag.unsqueeze(0)) \n",
        "        \n",
        "    def forward(self, x, q):\n",
        "        x = self.enc(x)\n",
        "        \n",
        "        tag = self.tag.expand(x.shape[0], self.tag.shape[1], self.tag.shape[2], self.tag.shape[3])\n",
        "        \n",
        "        x = torch.cat((x, tag), dim=1)\n",
        "                \n",
        "        x = x.reshape(x.shape[0], x.shape[1], -1)\n",
        "        \n",
        "        x1 = x.unsqueeze(2)\n",
        "        x2 = x.unsqueeze(3)\n",
        "        \n",
        "        x1 = x1.expand(-1, -1, x1.shape[3], -1)\n",
        "        x2 = x2.expand(-1, -1, -1, x2.shape[2])\n",
        "        \n",
        "        q = q.unsqueeze(2).unsqueeze(3)\n",
        "        q = q.expand(-1, -1, x1.shape[2], x1.shape[3])\n",
        "        \n",
        "        x = torch.cat((x1, x2, q), dim=1)\n",
        "        \n",
        "        x = self.relations(x)\n",
        "        x = x.reshape(x.shape[0], x.shape[1], -1).sum(dim=2)#.sum(dim=2)\n",
        "        x = x.unsqueeze(2).unsqueeze(3)\n",
        "        x = self.output(x)\n",
        "        return x.squeeze()"
      ],
      "execution_count": 0,
      "outputs": []
    },
    {
      "metadata": {
        "id": "cvXcnub4yZBu",
        "colab_type": "text"
      },
      "cell_type": "markdown",
      "source": [
        "## Dataloader"
      ]
    },
    {
      "metadata": {
        "id": "bZ8E0JPPzUOH",
        "colab_type": "code",
        "colab": {}
      },
      "cell_type": "code",
      "source": [
        "from torch.utils.data import Dataset, DataLoader\n",
        "import numpy as np\n",
        "import re"
      ],
      "execution_count": 0,
      "outputs": []
    },
    {
      "metadata": {
        "id": "yriHpSV3yatX",
        "colab_type": "code",
        "colab": {}
      },
      "cell_type": "code",
      "source": [
        "class SoCLEVR(Dataset):\n",
        "    def __init__(self, filename, output_dic = {}):\n",
        "        super().__init__()\n",
        "        \n",
        "        lines = open(filename, \"r\").readlines()\n",
        "        self.output_dic = output_dic\n",
        "        c = 0\n",
        "        \n",
        "        self.data = []\n",
        "        self.env = {}\n",
        "        \n",
        "        for line in lines:\n",
        "            line = line.strip()\n",
        "            e, q, a = re.split(\"[ ]+\", line)\n",
        "            \n",
        "            if e not in self.env:\n",
        "                img = Image.open(e)\n",
        "                self.env[e] = np.asarray(img)\n",
        "            \n",
        "            e = self.env[e]\n",
        "            \n",
        "            q = np.asarray(list(map(float, q)), dtype=np.float32)\n",
        "            \n",
        "            if a not in self.output_dic:\n",
        "                self.output_dic[a] = c\n",
        "                c = c + 1\n",
        "            \n",
        "            a = self.output_dic[a]\n",
        "            \n",
        "            self.data.append((e, q, a))\n",
        "        \n",
        "    def __len__(self):\n",
        "        return len(self.data)\n",
        "    \n",
        "    def __getitem__(self, idx):\n",
        "        return self.data[idx]"
      ],
      "execution_count": 0,
      "outputs": []
    },
    {
      "metadata": {
        "id": "LYZDIl_EzNKi",
        "colab_type": "code",
        "colab": {}
      },
      "cell_type": "code",
      "source": [
        "soclevr = SoCLEVR(\"SortOfCLEVR.txt\")\n",
        "\n",
        "soclevr_test = SoCLEVR(\"SortOfCLEVR_test.txt\", output_dic=soclevr.output_dic)"
      ],
      "execution_count": 0,
      "outputs": []
    },
    {
      "metadata": {
        "id": "ChkypNxK2gGk",
        "colab_type": "code",
        "outputId": "f5fdcd53-a9e6-4999-c8c3-488d28b6acd5",
        "colab": {
          "base_uri": "https://localhost:8080/",
          "height": 350
        }
      },
      "cell_type": "code",
      "source": [
        "import matplotlib.pyplot as plt\n",
        "plt.imshow(soclevr[1000][0])\n",
        "_ = plt.axis(\"off\")"
      ],
      "execution_count": 13,
      "outputs": [
        {
          "output_type": "display_data",
          "data": {
            "image/png": "[encoded data removed]",
            "text/plain": [
              "<matplotlib.figure.Figure at 0x7fa01813feb8>"
            ]
          },
          "metadata": {
            "tags": []
          }
        }
      ]
    },
    {
      "metadata": {
        "id": "dVGlOWPu2qsT",
        "colab_type": "text"
      },
      "cell_type": "markdown",
      "source": [
        "## Training"
      ]
    },
    {
      "metadata": {
        "id": "AAt-1WBF2EO6",
        "colab_type": "code",
        "colab": {}
      },
      "cell_type": "code",
      "source": [
        "dataloader = DataLoader(soclevr, batch_size=64, shuffle=True)"
      ],
      "execution_count": 0,
      "outputs": []
    },
    {
      "metadata": {
        "id": "kJAdaJB-TE0h",
        "colab_type": "code",
        "colab": {}
      },
      "cell_type": "code",
      "source": [
        "dataloader_test = DataLoader(soclevr_test, batch_size=64, shuffle=True)\n",
        "dataloader_test_iter = iter(dataloader_test)"
      ],
      "execution_count": 0,
      "outputs": []
    },
    {
      "metadata": {
        "id": "TgdsHlagv1fK",
        "colab_type": "code",
        "colab": {}
      },
      "cell_type": "code",
      "source": [
        "dev = torch.device(\"cuda\" if torch.cuda.is_available() else \"cpu\")"
      ],
      "execution_count": 0,
      "outputs": []
    },
    {
      "metadata": {
        "id": "DqHiv5Mo4MzO",
        "colab_type": "code",
        "colab": {}
      },
      "cell_type": "code",
      "source": [
        "rn = RN().to(dev)"
      ],
      "execution_count": 0,
      "outputs": []
    },
    {
      "metadata": {
        "id": "CudSDFAM8v7K",
        "colab_type": "code",
        "colab": {}
      },
      "cell_type": "code",
      "source": [
        "optimizer = torch.optim.Adam(rn.parameters(), lr=1e-4)\n",
        "lossfn = nn.CrossEntropyLoss()"
      ],
      "execution_count": 0,
      "outputs": []
    },
    {
      "metadata": {
        "id": "03Fs2MDf8966",
        "colab_type": "code",
        "colab": {}
      },
      "cell_type": "code",
      "source": [
        "counter = 0"
      ],
      "execution_count": 0,
      "outputs": []
    },
    {
      "metadata": {
        "id": "irgk_gB-s8wW",
        "colab_type": "code",
        "outputId": "81313474-3932-4465-b992-a22f9ec0f351",
        "colab": {
          "base_uri": "https://localhost:8080/",
          "height": 102
        }
      },
      "cell_type": "code",
      "source": [
        "!pip install tensorboardcolab\n",
        "from tensorboardcolab import *\n",
        "tbc=TensorBoardColab(graph_path=\"./log\")"
      ],
      "execution_count": 20,
      "outputs": [
        {
          "output_type": "stream",
          "text": [
            "Requirement already satisfied: tensorboardcolab in /usr/local/lib/python3.6/dist-packages (0.0.22)\n"
          ],
          "name": "stdout"
        },
        {
          "output_type": "stream",
          "text": [
            "Using TensorFlow backend.\n"
          ],
          "name": "stderr"
        },
        {
          "output_type": "stream",
          "text": [
            "Wait for 8 seconds...\n",
            "TensorBoard link:\n",
            "http://2cfd92cb.ngrok.io\n"
          ],
          "name": "stdout"
        }
      ]
    },
    {
      "metadata": {
        "id": "nsfaESqG3dVd",
        "colab_type": "code",
        "colab": {}
      },
      "cell_type": "code",
      "source": [
        "from tensorboardX import SummaryWriter\n",
        "writer = SummaryWriter(log_dir=\"./log/1_128_bn_relu\")"
      ],
      "execution_count": 0,
      "outputs": []
    },
    {
      "metadata": {
        "id": "m929zvdn3-wf",
        "colab_type": "code",
        "outputId": "a6eee3fa-3fd2-4055-9cbd-500ae30d6561",
        "colab": {
          "base_uri": "https://localhost:8080/",
          "height": 232
        }
      },
      "cell_type": "code",
      "source": [
        "for epoch in range(1, 10000):\n",
        "    for step, (e, q, a) in enumerate(dataloader):\n",
        "        counter = counter + 1\n",
        "        e = e.permute(0, 3, 1, 2)\n",
        "        e = e.float()/255*2 - 1.0 \n",
        "        e = e.to(dev)\n",
        "        q = q.to(dev)\n",
        "        a = a.to(dev)\n",
        "\n",
        "        output = rn(e, q)\n",
        "        loss = lossfn(output, a)\n",
        "        optimizer.zero_grad()\n",
        "        loss.backward()\n",
        "        optimizer.step()\n",
        "        writer.add_scalar(\"loss\", loss.item(), counter)\n",
        "        \n",
        "        if counter % 100 == 0:\n",
        "            rn.eval()\n",
        "            with torch.no_grad():\n",
        "                e, q, a = dataloader_test_iter.next()\n",
        "                e = e.permute(0, 3, 1, 2)\n",
        "                e = e.float()/255*2 - 1.0 \n",
        "                e = e.to(dev)\n",
        "                q = q.to(dev)\n",
        "                a = a.to(dev)\n",
        "                output = rn(e, q)\n",
        "                loss = lossfn(output, a)                \n",
        "                acc = torch.sum(output.argmax(dim=1) == a) * 100.0 / output.shape[0]\n",
        "                writer.add_scalar(\"test_accuracy\", acc.item(), counter)\n",
        "            rn.train()"
      ],
      "execution_count": 22,
      "outputs": [
        {
          "output_type": "error",
          "ename": "KeyboardInterrupt",
          "evalue": "ignored",
          "traceback": [
            "\u001b[0;31m---------------------------------------------------------------------------\u001b[0m",
            "\u001b[0;31mKeyboardInterrupt\u001b[0m                         Traceback (most recent call last)",
            "\u001b[0;32m<ipython-input-22-6cb6a47a03fb>\u001b[0m in \u001b[0;36m<module>\u001b[0;34m()\u001b[0m\n\u001b[1;32m     13\u001b[0m         \u001b[0mloss\u001b[0m\u001b[0;34m.\u001b[0m\u001b[0mbackward\u001b[0m\u001b[0;34m(\u001b[0m\u001b[0;34m)\u001b[0m\u001b[0;34m\u001b[0m\u001b[0;34m\u001b[0m\u001b[0m\n\u001b[1;32m     14\u001b[0m         \u001b[0moptimizer\u001b[0m\u001b[0;34m.\u001b[0m\u001b[0mstep\u001b[0m\u001b[0;34m(\u001b[0m\u001b[0;34m)\u001b[0m\u001b[0;34m\u001b[0m\u001b[0;34m\u001b[0m\u001b[0m\n\u001b[0;32m---> 15\u001b[0;31m         \u001b[0mwriter\u001b[0m\u001b[0;34m.\u001b[0m\u001b[0madd_scalar\u001b[0m\u001b[0;34m(\u001b[0m\u001b[0;34m\"loss\"\u001b[0m\u001b[0;34m,\u001b[0m \u001b[0mloss\u001b[0m\u001b[0;34m.\u001b[0m\u001b[0mitem\u001b[0m\u001b[0;34m(\u001b[0m\u001b[0;34m)\u001b[0m\u001b[0;34m,\u001b[0m \u001b[0mcounter\u001b[0m\u001b[0;34m)\u001b[0m\u001b[0;34m\u001b[0m\u001b[0;34m\u001b[0m\u001b[0m\n\u001b[0m\u001b[1;32m     16\u001b[0m \u001b[0;34m\u001b[0m\u001b[0m\n\u001b[1;32m     17\u001b[0m         \u001b[0;32mif\u001b[0m \u001b[0mcounter\u001b[0m \u001b[0;34m%\u001b[0m \u001b[0;36m100\u001b[0m \u001b[0;34m==\u001b[0m \u001b[0;36m0\u001b[0m\u001b[0;34m:\u001b[0m\u001b[0;34m\u001b[0m\u001b[0;34m\u001b[0m\u001b[0m\n",
            "\u001b[0;31mKeyboardInterrupt\u001b[0m: "
          ]
        }
      ]
    },
    {
      "metadata": {
        "id": "KReoH3_uglVK",
        "colab_type": "text"
      },
      "cell_type": "markdown",
      "source": [
        "## Demo"
      ]
    },
    {
      "metadata": {
        "id": "VR00dT_1jOKS",
        "colab_type": "code",
        "cellView": "form",
        "colab": {}
      },
      "cell_type": "code",
      "source": [
        "#@title Download a trained model\n",
        "\n",
        "#taken from this StackOverflow answer: https://stackoverflow.com/a/39225039\n",
        "import requests\n",
        "def download_file_from_google_drive(id, destination):\n",
        "    URL = \"https://docs.google.com/uc?export=download\"\n",
        "\n",
        "    session = requests.Session()\n",
        "\n",
        "    response = session.get(URL, params = { 'id' : id }, stream = True)\n",
        "    token = get_confirm_token(response)\n",
        "\n",
        "    if token:\n",
        "        params = { 'id' : id, 'confirm' : token }\n",
        "        response = session.get(URL, params = params, stream = True)\n",
        "\n",
        "    save_response_content(response, destination)    \n",
        "\n",
        "def get_confirm_token(response):\n",
        "    for key, value in response.cookies.items():\n",
        "        if key.startswith('download_warning'):\n",
        "            return value\n",
        "\n",
        "    return None\n",
        "\n",
        "def save_response_content(response, destination):\n",
        "    CHUNK_SIZE = 32768\n",
        "\n",
        "    with open(destination, \"wb\") as f:\n",
        "        for chunk in response.iter_content(CHUNK_SIZE):\n",
        "            if chunk: # filter out keep-alive new chunks\n",
        "                f.write(chunk)\n",
        "\n",
        "\n",
        "file_id = '12XyhvO2NjdzvZ4zuhFadC0y_MJn7UwbN'\n",
        "download_file_from_google_drive(file_id, \"model.ckpt\")"
      ],
      "execution_count": 0,
      "outputs": []
    },
    {
      "metadata": {
        "id": "b0gfpvRJuaxN",
        "colab_type": "code",
        "cellView": "form",
        "outputId": "78212b4a-d6e2-4946-ccc1-88cfcfd70808",
        "colab": {
          "base_uri": "https://localhost:8080/",
          "height": 145
        }
      },
      "cell_type": "code",
      "source": [
        "#@title Create a random environment\n",
        "output_dic = {'1': 10,\n",
        " '2': 9,\n",
        " '3': 8,\n",
        " '4': 5,\n",
        " '5': 6,\n",
        " '6': 11,\n",
        " 'bottom': 7,\n",
        " 'circle': 1,\n",
        " 'left': 4,\n",
        " 'right': 2,\n",
        " 'square': 3,\n",
        " 'top': 0}\n",
        "\n",
        "dev = torch.device(\"cuda\" if torch.cuda.is_available() else \"cpu\")\n",
        "rn = RN().to(dev)\n",
        "\n",
        "rn.load_state_dict(torch.load(\"model.ckpt\"))\n",
        "\n",
        "rn = rn.eval()\n",
        "from PIL import Image\n",
        "_ = generate_example(\"bg.jpg\", \"env.png\")\n",
        "Image.open(\"env.png\")"
      ],
      "execution_count": 24,
      "outputs": [
        {
          "output_type": "execute_result",
          "data": {
            "image/png": "[encoded data removed]",
            "text/plain": [
              "<PIL.PngImagePlugin.PngImageFile image mode=RGB size=128x128 at 0x7F9FD55B79B0>"
            ]
          },
          "metadata": {
            "tags": []
          },
          "execution_count": 24
        }
      ]
    },
    {
      "metadata": {
        "id": "oGMQwCapOl0A",
        "colab_type": "text"
      },
      "cell_type": "markdown",
      "source": [
        "Each image has 6 objects. Each object has:\n",
        "1.   shape: square or cicle\n",
        "2.   color:  6 colors (red, blue, green, orange, yellow, gray) \n",
        "3.   position: any where  in a 128x128 env\n",
        "\n"
      ]
    },
    {
      "metadata": {
        "id": "BXCPJ4yagqBE",
        "colab_type": "code",
        "cellView": "form",
        "colab": {}
      },
      "cell_type": "code",
      "source": [
        "#@title Ask a question { run: \"auto\" }\n",
        "#@markdown Choose an object with color\n",
        "\n",
        "object_color = \"green\"  #@param ['red', 'blue', 'green', 'orange', 'yellow', 'gray']\n",
        "\n",
        "#@markdown Choose a question\n",
        "\n",
        "question = \"1 What is the shape of the object?\" #@param [\"1 What is the shape of the object?\", \"2 Is the object on the left or right of the image?\", \"3 Is the object on the top or bottom of the image?\", \"4 What is the shape of the object that is closest to the chosen object?\", \"5 What is the shape of the object that is furthest from the chosen object?\", \"6 How many objects have the shape of the chosen object?\"]\n",
        "\n",
        "\n",
        "for i in range(6):\n",
        "    if object_color == colorlist[i]:\n",
        "        break\n",
        "\n",
        "q = [0 for _ in range(11)]\n",
        "#print(i)\n",
        "q[i] = 1\n",
        "\n",
        "qq = int(question[0])\n",
        "#print(qq)\n",
        "if qq <= 3:\n",
        "    q[7] = 1\n",
        "    q[8 + (4-qq)-1] = 1\n",
        "else:\n",
        "    q[6] = 1 \n",
        "    q[8 + (4-(qq-3))-1] = 1\n",
        "    \n",
        "q = list(map(int, q))\n",
        "\n",
        "#print(q)\n",
        "q = np.asarray(q, dtype=np.float32)\n",
        "#print(i)\n",
        "\n",
        "e = np.asarray(Image.open(\"env.png\"), dtype=np.float32)\n",
        "e = torch.from_numpy(e).permute(2, 0, 1).unsqueeze(0).to(dev)\n",
        "e = e /255 * 2 - 1.0\n",
        "q = torch.from_numpy(q).unsqueeze(0).to(dev)\n",
        "\n",
        "out = rn(e, q)\n",
        "#print(out)\n",
        "o = torch.argmax(out).item()\n",
        "\n",
        "idx2word = {}\n",
        "for k, v in output_dic.items():\n",
        "    idx2word[v] = k\n",
        "    \n",
        "print(idx2word[o])"
      ],
      "execution_count": 0,
      "outputs": []
    }
  ]
}