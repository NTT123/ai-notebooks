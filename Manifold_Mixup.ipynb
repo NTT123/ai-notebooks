{
  "nbformat": 4,
  "nbformat_minor": 0,
  "metadata": {
    "colab": {
      "name": "Manifold Mixup.ipynb",
      "version": "0.3.2",
      "provenance": [],
      "collapsed_sections": [],
      "include_colab_link": true
    },
    "kernelspec": {
      "name": "python3",
      "display_name": "Python 3"
    },
    "accelerator": "GPU"
  },
  "cells": [
    {
      "cell_type": "markdown",
      "metadata": {
        "id": "view-in-github",
        "colab_type": "text"
      },
      "source": [
        "<a href=\"https://colab.research.google.com/github/NTT123/ai-notebooks/blob/master/Manifold_Mixup.ipynb\" target=\"_parent\"><img src=\"https://colab.research.google.com/assets/colab-badge.svg\" alt=\"Open In Colab\"/></a>"
      ]
    },
    {
      "cell_type": "markdown",
      "metadata": {
        "id": "oYBLV-msoym9",
        "colab_type": "text"
      },
      "source": [
        "## Manifold Mixup: Better Representations by Interpolating Hidden States\n",
        "\n",
        "https://arxiv.org/abs/1806.05236\n",
        "\n",
        "Vikas Verma, Alex Lamb, Christopher Beckham, Amir Najafi, Ioannis Mitliagkas, Aaron Courville, David Lopez-Paz, Yoshua Bengio"
      ]
    },
    {
      "cell_type": "code",
      "metadata": {
        "id": "F75yuRAKF0Za",
        "colab_type": "code",
        "colab": {}
      },
      "source": [
        "## I need better style sheet\n",
        "import seaborn as sns\n",
        "import matplotlib\n",
        "import matplotlib.pyplot as plt\n",
        "plt.style.use('classic')"
      ],
      "execution_count": 0,
      "outputs": []
    },
    {
      "cell_type": "code",
      "metadata": {
        "id": "ziGhf_DbyVO0",
        "colab_type": "code",
        "colab": {}
      },
      "source": [
        "## Two-spirals dataset\n",
        "## Source: https://glowingpython.blogspot.com/2017/04/solving-two-spirals-problem-with-keras.html\n",
        "\n",
        "import numpy as np\n",
        "\n",
        "np.random.seed(42)\n",
        "\n",
        "def twospirals(n_points, noise=.1):\n",
        "    \"\"\"\n",
        "     Returns the two spirals dataset.\n",
        "    \"\"\"\n",
        "    n = np.sqrt(np.random.rand(n_points,1)) * 760 * (2*np.pi)/360\n",
        "    d1x = -np.cos(n)*n + (np.random.rand(n_points,1)-0.5) * noise\n",
        "    d1y = np.sin(n)*n + (np.random.rand(n_points,1)-0.5) * noise\n",
        "    return (np.vstack((np.hstack((d1x,d1y)),np.hstack((-d1x,-d1y)))), \n",
        "            np.hstack((np.zeros(n_points),np.ones(n_points))))\n",
        "\n",
        "X, y = twospirals(64, noise=0.0)\n",
        "X = X / np.std(X, axis=0, keepdims=True)\n",
        "plt.axes().set_aspect('equal', 'datalim')\n",
        "\n",
        "plt.title('training set')\n",
        "plt.plot(X[y==0,0], X[y==0,1], '.', label='class 1')\n",
        "plt.plot(X[y==1,0], X[y==1,1], '.', label='class 2')\n",
        "_ = plt.legend()\n",
        "\n",
        "\n",
        "SX = X\n",
        "Sy = y"
      ],
      "execution_count": 0,
      "outputs": []
    },
    {
      "cell_type": "code",
      "metadata": {
        "id": "k7kJPzU4azAa",
        "colab_type": "code",
        "colab": {}
      },
      "source": [
        "from torch.utils.data import DataLoader\n",
        "dataset = list(zip(X.astype(\"float32\"), y.astype(\"float32\")))\n",
        "dataloader = DataLoader(dataset=dataset, batch_size=64, shuffle=True)"
      ],
      "execution_count": 0,
      "outputs": []
    },
    {
      "cell_type": "code",
      "metadata": {
        "id": "2_YE1h1fLpST",
        "colab_type": "code",
        "colab": {}
      },
      "source": [
        "import torch\n",
        "from torch import nn\n",
        "import numpy as np\n",
        "from torch.distributions import Beta, Uniform\n",
        "\n",
        "class MixupLayer(nn.Module):\n",
        "    def __init__(self):\n",
        "        super().__init__()\n",
        "\n",
        "    def forward(self, x, lam):\n",
        "        # x: [batch, dim], lam: [batch]\n",
        "        x = x * lam + torch.flip(x, [0,]) * (1.0 - lam)\n",
        "        return x\n",
        "\n",
        "class MLP(nn.Module):\n",
        "    def __init__(self, dim=256, bd=2):\n",
        "        super().__init__()\n",
        "        self.F = nn.ModuleList([ \n",
        "            nn.Linear(2, dim), \n",
        "            nn.LeakyReLU(0.1), nn.Linear(dim, dim), \n",
        "            nn.LeakyReLU(0.1), nn.Linear(dim, dim), \n",
        "            nn.LeakyReLU(0.1),  nn.Linear(dim, bd), MixupLayer(),  nn.Linear(bd, dim), \n",
        "            nn.LeakyReLU(0.1), nn.Linear(dim, 1), \n",
        "        ])\n",
        "\n",
        "        self.betaSampler = Beta(torch.tensor([0.1]).float(), torch.tensor([0.1]).float())\n",
        "\n",
        "    def run_after_mid(self, x):\n",
        "        t = False\n",
        "        for f in self.F:\n",
        "            if t:\n",
        "                x = f(x)\n",
        "            if isinstance(f, MixupLayer):\n",
        "                t = True\n",
        "                \n",
        "        return x\n",
        "\n",
        "    def forward(self, x, no_mixup=False):\n",
        "        if no_mixup:\n",
        "            lam = torch.ones( x.size(0), 1)\n",
        "        else:\n",
        "            # uniform\n",
        "            lam = torch.rand(x.size(0), 1) #self.betaSampler.sample( (x.size(0),) ).view(-1, 1)\n",
        "        lam = lam.to(x.device)\n",
        "        for f in self.F:\n",
        "            if isinstance(f, MixupLayer):\n",
        "                mid = x\n",
        "                x = f(x, lam) \n",
        "            else:\n",
        "                x = f(x)\n",
        "        return x, lam, mid"
      ],
      "execution_count": 0,
      "outputs": []
    },
    {
      "cell_type": "code",
      "metadata": {
        "id": "u7vXCXKqU5K2",
        "colab_type": "code",
        "colab": {}
      },
      "source": [
        "device = torch.device(\"cuda\" if torch.cuda.is_available() else \"cpu\")\n",
        "net = MLP().to(device)\n",
        "\n",
        "def init_weights(m):\n",
        "    g = torch.nn.init.calculate_gain(\"leaky_relu\", 0.1)\n",
        "    if type(m) == nn.Linear:\n",
        "        torch.nn.init.xavier_uniform_(m.weight, gain=g)\n",
        "        m.bias.data.fill_(0.01)\n",
        "\n",
        "net = net.apply(init_weights)\n",
        "gs = 0\n",
        "optimizer = torch.optim.Adam(net.parameters(), lr=2e-3, weight_decay=0.0)\n",
        "criterion = torch.nn.BCEWithLogitsLoss()\n",
        "from torch.utils.tensorboard import SummaryWriter\n",
        "from torchvision import datasets, transforms\n",
        "\n",
        "# Writer will output to ./runs/ directory by default\n",
        "writer = SummaryWriter(\"logs/1\")"
      ],
      "execution_count": 0,
      "outputs": []
    },
    {
      "cell_type": "code",
      "metadata": {
        "colab_type": "code",
        "id": "c5TyhQuXfRfq",
        "colab": {}
      },
      "source": [
        "for epoch in range(1000):\n",
        "    for xx, yy in dataloader:\n",
        "        xx = xx.to(device)\n",
        "        yy = yy.to(device).view(-1, 1)\n",
        "\n",
        "        pred, lam, mid = net(xx, no_mixup=False)\n",
        "\n",
        "        yyf = torch.flip(yy, dims=[0,])\n",
        "\n",
        "        y1 = yy * lam + yyf * (1.0 - lam)\n",
        "\n",
        "        loss = criterion(pred, y1)\n",
        "        optimizer.zero_grad()\n",
        "        loss.backward()\n",
        "        optimizer.step()\n",
        "        gs = gs + 1\n",
        "        writer.add_scalar(\"loss\", loss.item(), gs)\n",
        "        print(\"\\r epoch: {}, loss: {:0.3f}\".format(epoch, loss.item()), end=\"\")"
      ],
      "execution_count": 0,
      "outputs": []
    },
    {
      "cell_type": "code",
      "metadata": {
        "id": "hpnRSRoTepSX",
        "colab_type": "code",
        "colab": {}
      },
      "source": [
        "dtt = []\n",
        "nn=401\n",
        "vvv = np.linspace(-3,3, nn)\n",
        "for i in range(nn):\n",
        "    for j in range(nn):\n",
        "        xx = vvv[i]\n",
        "        yy = vvv[j]\n",
        "        dtt.append([xx,yy])\n",
        "\n",
        "dtt = np.asarray(dtt).astype(\"float32\")\n",
        "grd = torch.tensor(dtt).float().to(device)\n",
        "yg, l, mid = net(grd, no_mixup=True)\n",
        "yg = torch.sigmoid(yg)\n",
        "heat = yg.data.cpu().numpy()\n",
        "heat = heat.reshape((nn,nn))# data.cpu().view(101,101).numpy()\n",
        "\n",
        "import matplotlib\n",
        "import matplotlib.pyplot as plt\n",
        "from matplotlib.colors import BoundaryNorm\n",
        "from matplotlib.ticker import MaxNLocator\n",
        "import numpy as np\n",
        "plt.style.use('classic')\n",
        "\n",
        "Y, XX = np.meshgrid(vvv, vvv)\n",
        "\n",
        "plt.pcolormesh(XX, Y, heat )\n",
        "plt.colorbar()\n",
        "_ = sns.scatterplot(SX[:, 0], SX[:, 1], hue=Sy, alpha=0.8)\n"
      ],
      "execution_count": 0,
      "outputs": []
    },
    {
      "cell_type": "code",
      "metadata": {
        "id": "qQ_gefA51LpF",
        "colab_type": "code",
        "colab": {}
      },
      "source": [
        "dtt = []\n",
        "\n",
        "\n",
        "grd= torch.tensor(SX).float().to(device)\n",
        "yg, l, mid = net(grd, no_mixup=True)\n",
        "# yg = torch.sigmoid(yg)\n",
        "# sns.scatterplot( mid[:, 0].data.cpu().numpy(), mid[:, 1].data.cpu().numpy(), hue=Sy, size=1, alpha=0.8 )\n",
        "mm = torch.min(mid).item() -1 \n",
        "mmm = torch.max(mid).item() + 1\n",
        "nn=401\n",
        "vvv = np.linspace(mm,mmm, nn)\n",
        "for i in range(nn):\n",
        "    for j in range(nn):\n",
        "        xx = vvv[i]\n",
        "        yy = vvv[j]\n",
        "        dtt.append([xx,yy])\n",
        "\n",
        "dtt = np.asarray(dtt).astype(\"float32\")\n",
        "grd = torch.tensor(dtt).float().to(device)\n",
        "yg = net.run_after_mid(grd)\n",
        "yg = torch.sigmoid(yg)\n",
        "heat = yg.data.cpu().numpy()\n",
        "heat = heat.reshape((nn,nn))# data.cpu().view(101,101).numpy()\n",
        "\n",
        "import matplotlib\n",
        "import matplotlib.pyplot as plt\n",
        "from matplotlib.colors import BoundaryNorm\n",
        "from matplotlib.ticker import MaxNLocator\n",
        "import numpy as np\n",
        "plt.style.use('classic')\n",
        "\n",
        "Y, XX = np.meshgrid(vvv, vvv)\n",
        "\n",
        "plt.pcolormesh(XX, Y, heat )\n",
        "plt.colorbar()\n",
        "# _ = sns.scatterplot(SX[:, 0], SX[:, 1], hue=Sy, alpha=0.8)\n",
        "\n",
        "\n",
        "\n",
        "grd= torch.tensor(SX).float().to(device)\n",
        "yg, l, mid = net(grd, no_mixup=True)\n",
        "yg = torch.sigmoid(yg)\n",
        "sns.scatterplot( mid[:, 0].data.cpu().numpy(), mid[:, 1].data.cpu().numpy(), hue=Sy, size=1, alpha=0.8 )"
      ],
      "execution_count": 0,
      "outputs": []
    },
    {
      "cell_type": "code",
      "metadata": {
        "id": "vxEdDu4DdtVy",
        "colab_type": "code",
        "colab": {}
      },
      "source": [
        "%load_ext tensorboard\n",
        "%tensorboard --logdir logs"
      ],
      "execution_count": 0,
      "outputs": []
    }
  ]
}