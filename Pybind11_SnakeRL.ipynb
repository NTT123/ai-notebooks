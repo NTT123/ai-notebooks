{
  "nbformat": 4,
  "nbformat_minor": 0,
  "metadata": {
    "colab": {
      "name": "Pybind11 SnakeRL.ipynb",
      "version": "0.3.2",
      "provenance": [],
      "collapsed_sections": [],
      "include_colab_link": true
    },
    "kernelspec": {
      "name": "python3",
      "display_name": "Python 3"
    },
    "accelerator": "GPU"
  },
  "cells": [
    {
      "cell_type": "markdown",
      "metadata": {
        "id": "view-in-github",
        "colab_type": "text"
      },
      "source": [
        "<a href=\"https://colab.research.google.com/github/NTT123/ai-notebooks/blob/master/Pybind11_SnakeRL.ipynb\" target=\"_parent\"><img src=\"https://colab.research.google.com/assets/colab-badge.svg\" alt=\"Open In Colab\"/></a>"
      ]
    },
    {
      "cell_type": "markdown",
      "metadata": {
        "id": "dm788qH4fS7a",
        "colab_type": "text"
      },
      "source": [
        "## Snake RL\n"
      ]
    },
    {
      "cell_type": "markdown",
      "metadata": {
        "id": "Vybu2eBvtF4p",
        "colab_type": "text"
      },
      "source": [
        "### Env"
      ]
    },
    {
      "cell_type": "code",
      "metadata": {
        "id": "u2094Jb2YBvf",
        "colab_type": "code",
        "colab": {}
      },
      "source": [
        "## Tiles\n",
        "! echo \"iVBORw0KGgoAAAANSUhEUgAAAEAAAABACAYAAACqaXHeAAAE6ElEQVR4XuWbL2wUQRTG53STIsFBSFAIgiD4HniCIAFfahAkCET1CQQJAlPqIUHhYc8jESgSAooiITldMtu+493b93d27nK3t6ah3M7O/Oab9973tjdqmuY0bfE1ygD29vaKEUyn01Tr/vF4nK4efzXn8n3/emqapv1c3+e7Aby4cC89//OhM7m+E8D3byyAyWRi7pr0gcPDw7mCMoB8WSpYuQLy7udLUsC7K49cAPLE4YJFPvzxdj0BzO5fnk/2dXOTXTycQS8AjtJaAqCLzxN/cutX2vn0mY0BNQFY8s8TWOoRmN25ndLuSdq58bJd7OzLs7NF/73U/qAQchAbNIA5hG0D0NH6mgCAQLrUOqA9BvnaPZlLn5P/MoKgFQNWAqCVPUA4lwIXAAcNwJXYz0tRHAS5XK+NRdOgpYClZwHvwuFzOQvUrAQ3EsBWmCFJGYMwQ1HZD+nzbju8CQoosdNrA8A7eS0LlIzhBgBenSoh+3maBaBK8xwVyCKe6A/jSWYoAgBAugBoA+c8LtUB+SEWjKiZ0irBKIA8PxUA3nVphygAvOt0spwiSgBgqLSllp8RUZMJwBpMAwAy05RQE0B+TlQFIgBvf84CgCFwICIAOEXROsQ7b1AjCyAyiAcAF7xwKe1pqEjHiSvEIvPvAIjcnBexSgBcQJUqUe86FgB4b8LBLAqAHgPrCGB3GQEA8cAKih0AVtCjkTwCgBYx+d8aAG8WscyYtrFrD8BTR1gANDX0ApB3CFeCHvVwhYzWT6gFAEPAKi4GAOUoBKFI/KjZ1+9rx4sA9K3F1w6Ax7QM9TMuM6QtXpNgPhY1z7DkJSAIeo8hVuDSAGAjpUHoe4ZLzFAVALBA/H4f7xCYEiuX466ypRZLAV4z1AsAbYxwAKgU8QPpIri2egREiRkqAiD1BvCLDVgctaQWADBDuOzVLDSGKJkhrSZxA/A2RGglVgqAqsPyAVBKW8/nxgWVsWYI32BVd14FSDtqmSHaT4C5WW+HpcYIVeMcgDeFcGYI74A0jnQMPAAkZWQImh2mm8cF5BYA1OLWbnNRmCrASx7GKgGAVaFlIWqFuU3oKMDyz5oCrH4cN4EoABoXrEIMb6oKAEdwukhNGZHX2yUAaGagsaQ6ALp4KzZEAXALkHqCVhElZQEuHUtjuUth7c0QrsWtOEJVoP19gacgshQAR1oKwm4AkiGitbgHAFZBTS/AzdHyJIMHAP5AUlMLQNrdbfh9VQV0gB2NUjo4TQl+MkRrHgErYOP6gS2FS3bcXICyeCuKe+YT7QfQbGC+HLUmodnhNtg9mKbx+//fSKFnUcsC+NnSGY4GYVCBqoCIlCQAkA2OP/5O+3cvtmuRCiFPKS7l8aoAJPv76vHZdweevvnZEQTnBXA5TQF4CyHumZw9rg6Ay+NRAN5mBMQArhLUnmm15bl78e+6DZFv4zZaW2aGiweRUhjupwvwvB7Hz57ffzRK02vNwlduMvw4gPy1uRyt0QXn1gqCqwSQj9PCdXC60A/wbuDSFRDZgagdXgimggKsTRN7ghJBbwyA+2sAKIkBUPZGYpDYE8SDRAFEdkBSQEkWAACRLFT8N0KQkugXHy03SOsBXAhZO0dTqFRJYiVbdUjVSrAkCNWsBEF5CxbYqESrmqFIBWm1ta1jBP/f14sMG4DDjf4DW/9pSAwF6vgAAAAASUVORK5CYII=\" | base64 -d > tiles.png"
      ],
      "execution_count": 0,
      "outputs": []
    },
    {
      "cell_type": "code",
      "metadata": {
        "id": "eX2frNCWYxoi",
        "colab_type": "code",
        "outputId": "89077448-3a3a-4901-a25d-e5a8e21ada0c",
        "colab": {
          "base_uri": "https://localhost:8080/",
          "height": 81
        }
      },
      "source": [
        "import matplotlib.pyplot as plt\n",
        "import imageio\n",
        "import numpy as np\n",
        "import PIL\n",
        "im = imageio.imread('tiles.png')\n",
        "[R, G, B] = [im[:,:, i] for i in range(3)] \n",
        "PIL.Image.fromarray(np.uint8(im))"
      ],
      "execution_count": 2,
      "outputs": [
        {
          "output_type": "execute_result",
          "data": {
            "image/png": "[encoded data removed]",
            "text/plain": [
              "<PIL.Image.Image image mode=RGBA size=64x64 at 0x7F91ABC28198>"
            ]
          },
          "metadata": {
            "tags": []
          },
          "execution_count": 2
        }
      ]
    },
    {
      "cell_type": "code",
      "metadata": {
        "id": "u1mmzkeAgKLE",
        "colab_type": "code",
        "colab": {}
      },
      "source": [
        "! apt install -q libeigen3-dev\n",
        "! pip install -q pybind11 cppimport git+https://github.com/aldanor/ipybind.git  \n",
        "% load_ext autoreload\n",
        "% autoreload 2\n",
        "% load_ext ipybind\n",
        "from google.colab import output\n",
        "output.clear()"
      ],
      "execution_count": 0,
      "outputs": []
    },
    {
      "cell_type": "code",
      "metadata": {
        "id": "m0YPnXeQi58X",
        "colab_type": "code",
        "colab": {}
      },
      "source": [
        "%%pybind11 -I /usr/include/eigen3\n",
        "\n",
        "#include <bits/stdc++.h>\n",
        "#include <pybind11/pybind11.h>\n",
        "#include <pybind11/iostream.h>\n",
        "#include <pybind11/stl.h>\n",
        "#include <pybind11/numpy.h>\n",
        "#include <pybind11/eigen.h>\n",
        " \n",
        "namespace py = pybind11;\n",
        "using namespace std;\n",
        "\n",
        "using mat = Eigen::MatrixXd;\n",
        "\n",
        "py::scoped_ostream_redirect __output;\n",
        "        \n",
        "struct Obs {\n",
        "    int reward;\n",
        "    bool terminated;\n",
        "    Eigen::MatrixXd env;\n",
        "};\n",
        "\n",
        "const int TILE_SIZE=16;\n",
        "\n",
        "struct Image {   \n",
        "    Eigen::MatrixXi R, G, B; \n",
        "    int h, w;\n",
        "    \n",
        "    Image(Eigen::MatrixXi R, Eigen::MatrixXi G, Eigen::MatrixXi B): R(R), G(G), B(B) {\n",
        "        h = R.rows() / TILE_SIZE;\n",
        "        w = R.cols() / TILE_SIZE;\n",
        "    }\n",
        "    \n",
        "    Image(int h, int w): h(h), w(w) {\n",
        "        R = Eigen::MatrixXi::Zero(TILE_SIZE*h+1, TILE_SIZE*w+1);\n",
        "        G = Eigen::MatrixXi::Zero(TILE_SIZE*h+1, TILE_SIZE*w+1);\n",
        "        B = Eigen::MatrixXi::Zero(TILE_SIZE*h+1, TILE_SIZE*w+1);\n",
        "    }\n",
        "    \n",
        "    void draw(int x, int y, int tileID, const Image & tiles) {\n",
        "        if (!(x >= 0 and y >= 0 and x < h and y < w)) return;\n",
        "        int tx = tileID / tiles.w;\n",
        "        int ty = tileID % tiles.w;\n",
        "        if (!(tx >=0 and ty>=0 and tx < tiles.h and ty < tiles.w)) return ;\n",
        "        \n",
        "        for(int i=0; i < TILE_SIZE; i++) {\n",
        "            for(int j=0; j < TILE_SIZE; j++) {\n",
        "                R(i + x*TILE_SIZE, j + y*TILE_SIZE) = tiles.R(i + tx*TILE_SIZE, j + ty*TILE_SIZE);\n",
        "                G(i + x*TILE_SIZE, j + y*TILE_SIZE) = tiles.G(i + tx*TILE_SIZE, j + ty*TILE_SIZE);\n",
        "                B(i + x*TILE_SIZE, j + y*TILE_SIZE) = tiles.B(i + tx*TILE_SIZE, j + ty*TILE_SIZE);\n",
        "            }\n",
        "        }\n",
        "        \n",
        "    }\n",
        "};\n",
        "\n",
        "using XY = pair<int,int>;\n",
        "\n",
        "XY turn(int act, XY hd) {\n",
        "    XY ans = hd;\n",
        "    if (act==0) return ans;\n",
        "    int sign = (act==1)?(1):(-1);\n",
        "    if (hd==make_pair(0,  1)) ans={-sign, 0};\n",
        "    if (hd==make_pair(0, -1)) ans={sign , 0};\n",
        "    if (hd==make_pair(1,  0)) ans={0,  sign};\n",
        "    if (hd==make_pair(-1, 0)) ans={0, -sign};\n",
        "    return ans;\n",
        "}\n",
        "\n",
        "struct Env {\n",
        "    int h, w;\n",
        "    XY head_direction;\n",
        "    mat state;\n",
        "    bool terminated;\n",
        "    int length;\n",
        "    Image tiles;\n",
        "    Image screen;\n",
        "    \n",
        "    void generate_food() {\n",
        "        int x, y;\n",
        "        while(true) {\n",
        "            x = rand() % h;\n",
        "            y = rand() % w;\n",
        "            if (state(x, y) == 0) break;\n",
        "        }\n",
        "        \n",
        "        state(x,y) = -1;\n",
        "    }\n",
        "       \n",
        "    Env(int h, int w, Image tiles): h(h), w(w), tiles(tiles), screen(h,w) {\n",
        "        if(h < 5 or w <5) throw invalid_argument(\"Too small size!\");        \n",
        "        state = Eigen::MatrixXd::Zero(h, w);\n",
        "        int rm = h/2, cm=w/2;\n",
        "        state(rm,cm) = 2.0;\n",
        "        state(rm,cm+1) = 1.0;\n",
        "        state(rm,cm-1) = 3.0;\n",
        "        head_direction = {0, 1};\n",
        "        length=3;\n",
        "        terminated = 0;\n",
        "        generate_food();\n",
        "        \n",
        "        screen.R.fill(tiles.R(0,0));\n",
        "        screen.G.fill(tiles.G(0,0));\n",
        "        screen.B.fill(tiles.B(0,0));\n",
        "    }\n",
        "    \n",
        "    void seed(int s) { srand(s); }\n",
        "    void reset() { *this = Env(h, w, tiles); }\n",
        "    \n",
        "\n",
        "    Eigen::MatrixXi render_dicrete() {\n",
        "        \n",
        "        Eigen::MatrixXi discrete = Eigen::MatrixXi::Zero(h, w);\n",
        "        vector<XY> m(length+1, {-1,-1});\n",
        "        \n",
        "        for(int i=0; i<h; i++) {\n",
        "            for(int j=0; j<w; j++) {\n",
        "                if (state(i, j) == 0) discrete(i, j) = 3;\n",
        "                if (state(i, j) ==-1) discrete(i, j) = 0;\n",
        "                if (state(i, j) > 0) m[ state(i, j) ] = {i, j};\n",
        "            }\n",
        "        }\n",
        "        \n",
        "        // head\n",
        "        int dhx = m[1].first-m[2].first;\n",
        "        int dhy = m[1].second-m[2].second;\n",
        "        int hidx = (dhx==-1)?(1):(3);\n",
        "        if (dhy!=0) hidx = (dhy==-1)?(0):(2);\n",
        "        discrete( m[1].first, m[1].second ) =  hidx+ 12;\n",
        "        \n",
        "        // tail\n",
        "        dhx = m[length].first-m[length-1].first;\n",
        "        dhy = m[length].second-m[length-1].second;\n",
        "        hidx = (dhx==-1)?(1):(3);\n",
        "        if (dhy!=0) hidx = (dhy==-1)?(0):(2);\n",
        "        discrete( m[length].first, m[length].second) = hidx+ 8;\n",
        "        \n",
        "        for(int i=2; i<length;i++) {\n",
        "            if (m[i-1].first == m[i+1].first) \n",
        "                discrete( m[i].first, m[i].second) = 1;\n",
        "            else if (m[i-1].second == m[i+1].second) \n",
        "                discrete( m[i].first, m[i].second) = 2;\n",
        "            else {\n",
        "                int dx = m[i-1].first - m[i].first + m[i+1].first - m[i].first;\n",
        "                int dy = m[i-1].second - m[i].second + m[i+1].second - m[i].second;\n",
        "                if (dx==1 and dy==1)   discrete( m[i].first, m[i].second) = 4;\n",
        "                if (dx==-1 and dy==-1) discrete( m[i].first, m[i].second) = 6;\n",
        "                if (dx==-1 and dy==1)  discrete( m[i].first, m[i].second) = 7;\n",
        "                if (dx==1 and dy==-1)  discrete( m[i].first, m[i].second) = 5;\n",
        "            }\n",
        "        }\n",
        "        return discrete;\n",
        "    }\n",
        "    \n",
        "    Image render_rgb() {\n",
        "        Eigen::MatrixXi raw = render_dicrete();\n",
        "        for(int i=0; i<h; i++) {\n",
        "            for(int j=0; j<w; j++) {\n",
        "                screen.draw(i, j, raw(i, j), tiles);\n",
        "            }\n",
        "        }\n",
        "        return screen;\n",
        "    }\n",
        "        \n",
        "    \n",
        "    Obs step(py::array_t<double> act) {\n",
        "        \n",
        "        if (terminated) throw runtime_error(\"the episode is terminated! call reset()\");\n",
        "        auto r = act.unchecked<1>(); \n",
        "        \n",
        "        if (r.shape(0) != 1) throw invalid_argument(\"wrong size!\");\n",
        "        \n",
        "        int iact = int(r[0]); // 0: nothing, 1: turn left, 2: turn right\n",
        "        \n",
        "        head_direction = turn(iact, head_direction);\n",
        "\n",
        "        XY head{-1,-1};\n",
        "        \n",
        "        XY tail{-1,-1};\n",
        "        for(int i=0; i<h; i++) {\n",
        "            for(int j=0; j<w; j++) {\n",
        "                if (state(i, j) == length) { state(i, j) = 0; tail={i,j};}\n",
        "                if (state(i, j) == 1)\n",
        "                    head = {i + head_direction.first, j + head_direction.second};\n",
        "                if (state(i, j) > 0) state(i, j)++;\n",
        "            }\n",
        "        }\n",
        "        \n",
        "        Obs obs;\n",
        "        obs.reward = 0;\n",
        "        \n",
        "        if (head.first < 0 or head.second < 0 or \n",
        "            head.first >=h or head.second >= w or \n",
        "            state(head.first, head.second) > 0 ) terminated = 1;\n",
        "        \n",
        "\n",
        "\n",
        "        if (terminated==0 and state(head.first, head.second)==-1) {\n",
        "            length++;\n",
        "            state(tail.first, tail.second) = length;\n",
        "            state(head.first, head.second) = 1;\n",
        "            generate_food();\n",
        "            obs.reward=1;\n",
        "        }\n",
        "        \n",
        "        if (head.first >= 0 and head.first < h and \n",
        "            head.second >= 0 and head.second < w) state(head.first, head.second) = 1;\n",
        "        \n",
        "        obs.env = render_dicrete().cast<double>();        \n",
        "        obs.terminated = terminated;\n",
        "        \n",
        "        return obs;\n",
        "    }\n",
        "        \n",
        "    string toString() {\n",
        "        ostringstream out;\n",
        "        for(int i=0;i<h;i++) {\n",
        "            for(int j=0; j<w;j++) \n",
        "                out << \"  \" << state(i, j);\n",
        "            out << \"\\n\";\n",
        "        }\n",
        "        return out.str();\n",
        "    }\n",
        "    \n",
        "};\n",
        "\n",
        "PYBIND11_PLUGIN(world) {\n",
        "    py::module m(\"world\");\n",
        "    py::class_<Obs>(m, \"Obs\", py::module_local())\n",
        "        .def_readonly(\"reward\", &Obs::reward)\n",
        "        .def_readonly(\"terminated\", &Obs::terminated)\n",
        "        .def_readonly(\"env\", &Obs::env);\n",
        "    \n",
        "    py::class_<Image>(m, \"Image\", py::module_local())\n",
        "        .def(py::init<Eigen::MatrixXi, Eigen::MatrixXi, Eigen::MatrixXi>())\n",
        "            .def_readonly(\"R\", &Image::R)\n",
        "            .def_readonly(\"G\", &Image::G)\n",
        "            .def_readonly(\"B\", &Image::B);\n",
        "\n",
        "    py::class_<Env>(m, \"Env\", py::module_local())\n",
        "        .def(py::init<int, int, Image>())\n",
        "        .def(\"step\", &Env::step)\n",
        "        .def(\"reset\", &Env::reset)\n",
        "        .def(\"seed\", &Env::seed)\n",
        "        .def(\"render_rgb\", &Env::render_rgb)\n",
        "        .def_readonly(\"head_direction\", &Env::head_direction)\n",
        "        .def_readonly(\"state\", &Env::state)\n",
        "        .def(\"__repr__\", &Env::toString);    \n",
        "    return m.ptr();\n",
        "}"
      ],
      "execution_count": 0,
      "outputs": []
    },
    {
      "cell_type": "markdown",
      "metadata": {
        "id": "jrpUzwL2tKCS",
        "colab_type": "text"
      },
      "source": [
        "### Test"
      ]
    },
    {
      "cell_type": "code",
      "metadata": {
        "id": "Vo6lmgosFObO",
        "colab_type": "code",
        "colab": {}
      },
      "source": [
        "env = Env(10, 10, Image(R, G, B))"
      ],
      "execution_count": 0,
      "outputs": []
    },
    {
      "cell_type": "code",
      "metadata": {
        "id": "Xf6ROC8tLBFc",
        "colab_type": "code",
        "colab": {}
      },
      "source": [
        "env.reset()"
      ],
      "execution_count": 0,
      "outputs": []
    },
    {
      "cell_type": "code",
      "metadata": {
        "id": "j3tZbyratAJI",
        "colab_type": "code",
        "outputId": "d10d6a3f-3601-48ce-9720-4dc796c489d6",
        "colab": {
          "base_uri": "https://localhost:8080/",
          "height": 178
        }
      },
      "source": [
        "obs=env.step([0])\n",
        "sc = env.render_rgb()\n",
        "PIL.Image.fromarray(np.uint8(np.stack((sc.R, sc.G, sc.B), axis=-1)))"
      ],
      "execution_count": 7,
      "outputs": [
        {
          "output_type": "execute_result",
          "data": {
            "image/png": "[encoded data removed]",
            "text/plain": [
              "<PIL.Image.Image image mode=RGB size=161x161 at 0x7F91AA4C8550>"
            ]
          },
          "metadata": {
            "tags": []
          },
          "execution_count": 7
        }
      ]
    },
    {
      "cell_type": "code",
      "metadata": {
        "id": "E6y4dWHPJZuR",
        "colab_type": "code",
        "outputId": "674477f0-84b9-499e-f74d-2f46eb05748b",
        "colab": {
          "base_uri": "https://localhost:8080/",
          "height": 187
        }
      },
      "source": [
        "obs.env"
      ],
      "execution_count": 8,
      "outputs": [
        {
          "output_type": "execute_result",
          "data": {
            "text/plain": [
              "array([[ 3.,  3.,  3.,  3.,  3.,  3.,  3.,  3.,  3.,  3.],\n",
              "       [ 3.,  3.,  3.,  3.,  3.,  3.,  3.,  3.,  3.,  3.],\n",
              "       [ 3.,  3.,  3.,  3.,  3.,  3.,  3.,  0.,  3.,  3.],\n",
              "       [ 3.,  3.,  3.,  3.,  3.,  3.,  3.,  3.,  3.,  3.],\n",
              "       [ 3.,  3.,  3.,  3.,  3.,  3.,  3.,  3.,  3.,  3.],\n",
              "       [ 3.,  3.,  3.,  3.,  3.,  8.,  1., 14.,  3.,  3.],\n",
              "       [ 3.,  3.,  3.,  3.,  3.,  3.,  3.,  3.,  3.,  3.],\n",
              "       [ 3.,  3.,  3.,  3.,  3.,  3.,  3.,  3.,  3.,  3.],\n",
              "       [ 3.,  3.,  3.,  3.,  3.,  3.,  3.,  3.,  3.,  3.],\n",
              "       [ 3.,  3.,  3.,  3.,  3.,  3.,  3.,  3.,  3.,  3.]])"
            ]
          },
          "metadata": {
            "tags": []
          },
          "execution_count": 8
        }
      ]
    },
    {
      "cell_type": "code",
      "metadata": {
        "id": "4YZFJHeoOyCB",
        "colab_type": "code",
        "outputId": "d452f3a8-1378-4301-a737-07f63c397b08",
        "colab": {
          "base_uri": "https://localhost:8080/",
          "height": 34
        }
      },
      "source": [
        "0"
      ],
      "execution_count": 9,
      "outputs": [
        {
          "output_type": "execute_result",
          "data": {
            "text/plain": [
              "0"
            ]
          },
          "metadata": {
            "tags": []
          },
          "execution_count": 9
        }
      ]
    }
  ]
}